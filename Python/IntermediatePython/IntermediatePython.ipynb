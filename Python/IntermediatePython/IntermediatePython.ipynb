{
 "cells": [
  {
   "cell_type": "markdown",
   "metadata": {
    "pycharm": {
     "name": "#%% md\n"
    }
   },
   "source": [
    "# Intermediate Python\n",
    "\n",
    "Now that we understand the basics of programming in Python, let's learn about its applications to FinTech.\n",
    "This workshop is inspired by on an original workshop developed by Jacob Kulik and David Pogrebitskiy."
   ]
  },
  {
   "cell_type": "markdown",
   "metadata": {},
   "source": [
    "# What you'll be able to do after this workshop\n",
    "\n",
    "- Understand intermediate features of Python and their applications to FinTech\n",
    "  - Using pandas to manipulate data\n",
    "  - Using the Yahoo Finance API to get stock data\n",
    "  - Plotting data with matplotlib\n"
   ]
  },
  {
   "cell_type": "markdown",
   "metadata": {},
   "source": [
    "# Quick Review\n"
   ]
  },
  {
   "cell_type": "code",
   "execution_count": null,
   "metadata": {
    "pycharm": {
     "name": "#%%\n"
    }
   },
   "outputs": [],
   "source": [
    "# Variables, Data Types, and Data Structures\n",
    "\n",
    "x = 7\n",
    "\n",
    "name = \"Jane\"\n",
    "\n",
    "ex_list = [\"Disrupt\", \"Fintech\", \"Initiative\"]\n",
    "\n",
    "ex_dict = {\"AAPL\": 125.07, \"MSFT\": 239.58, \"META\": 124.74}\n"
   ]
  },
  {
   "cell_type": "code",
   "execution_count": null,
   "metadata": {},
   "outputs": [],
   "source": [
    "# indexing\n",
    "\n",
    "print(ex_list[0])\n",
    "\n",
    "print(ex_dict[\"MSFT\"])\n"
   ]
  },
  {
   "cell_type": "code",
   "execution_count": null,
   "metadata": {},
   "outputs": [],
   "source": [
    "# looping\n",
    "for string in ex_list:\n",
    "    print(string)\n",
    "\n",
    "for key_value_pair in ex_dict:\n",
    "    print(f'{key_value_pair} is trading at {ex_dict[key_value_pair]}')\n"
   ]
  },
  {
   "cell_type": "code",
   "execution_count": null,
   "metadata": {},
   "outputs": [],
   "source": [
    "# functions\n",
    "\n",
    "\n",
    "def hello_world():\n",
    "    print(\"Hello World\")\n",
    "\n",
    "\n",
    "def say_hello(name):\n",
    "    print(f'Hello {name}')\n",
    "\n",
    "\n",
    "def ranker(list_of_strings):\n",
    "    for i, string in enumerate(list_of_strings):\n",
    "        print(f'{i+1}: {string}')\n",
    "\n",
    "\n",
    "hello_world()\n",
    "say_hello(\"John\")\n",
    "ranker([\"John\", \"Jane\", \"Aayan\", \"Sofia\", \"Mark\"])\n"
   ]
  },
  {
   "cell_type": "markdown",
   "metadata": {},
   "source": [
    "# pandas\n",
    "\n",
    "pandas is a Python library for data analysis. It provides data structures and operations for manipulating numerical tables and time series data. It is a fundamental high-level building block for doing practical, real world data analysis in Python.\n",
    "\n",
    "### [Documentation](https://pandas.pydata.org/docs/reference/api/pandas.DataFrame.html)"
   ]
  },
  {
   "cell_type": "code",
   "execution_count": null,
   "metadata": {},
   "outputs": [],
   "source": [
    "# we alias pandas as pd to make it easier to call. think of it like a nickname\n",
    "import pandas as pd"
   ]
  },
  {
   "cell_type": "code",
   "execution_count": null,
   "metadata": {},
   "outputs": [],
   "source": [
    "# motivations for using pandas instead of a dictionary\n",
    "\n",
    "# we could store the data in a dictionary, but it would be difficult to work with\n",
    "stock_market_data = {\n",
    "    'AAPL': {\n",
    "        'date': ['2023-02-14', '2023-02-15', '2023-02-16', '2023-02-17'],\n",
    "        'adjclose': [153.199997, 155.330002, 153.710007, 152.550003],\n",
    "        'close': [153.199997, 155.330002, 153.710007, 152.550003],\n",
    "        'high': [153.770004, 155.5, 156.330002, 153.0],\n",
    "        'low': [150.860001, 152.880005, 153.350006, 150.850006],\n",
    "        'open': [152.119995, 153.110001, 153.509995, 152.350006],\n",
    "        'volume': [61707600, 65669300, 68167900, 59095900]\n",
    "    },\n",
    "    'GOOG': {\n",
    "        'date': ['2023-02-14', '2023-02-15', '2023-02-16', '2023-02-17'],\n",
    "        'adjclose': [94.949997, 97.099998, 95.779999, 94.589996],\n",
    "        'close': [94.949997, 97.099998, 95.779999, 94.589996],\n",
    "        'high': [95.175003, 97.339996, 97.879997, 95.75],\n",
    "        'low': [92.650002, 94.360001, 94.970001, 93.449997],\n",
    "        'open': [94.660004, 94.739998, 95.540001, 95.070000],\n",
    "        'volume': [42513100, 37029900, 35642100, 31074100]\n",
    "    },\n",
    "    'MSFT': {\n",
    "        'date': ['2023-02-14', '2023-02-15', '2023-02-16', '2023-02-17'],\n",
    "        'adjclose': [249.800003, 252.949997, 252.789993, 253.600006],\n",
    "        'close': [249.800003, 252.949997, 252.789993, 253.600006],\n",
    "        'high': [251.399994, 254.899994, 253.729996, 255.970001],\n",
    "        'low': [248.210007, 250.970001, 251.270004, 253.0],\n",
    "        'open': [248.210007, 251.0, 252.539993, 253.5],\n",
    "        'volume': [20331600, 26144900, 15917000, 16853700]\n",
    "    }\n",
    "}\n",
    "\n"
   ]
  },
  {
   "cell_type": "code",
   "execution_count": null,
   "metadata": {},
   "outputs": [],
   "source": [
    "# lets convert this dictionary into a pandas dataframe\n",
    "\n",
    "# convert this dictionary into a pandas dataframe\n",
    "stock_market_df = pd.concat({ticker: pd.DataFrame.from_dict(data)\n",
    "                             for ticker, data in stock_market_data.items()}, \n",
    "                            axis=0, names=['ticker']).reset_index(level=1, drop=True).reset_index()\n",
    "\n",
    "stock_market_df"
   ]
  },
  {
   "cell_type": "code",
   "execution_count": null,
   "metadata": {
    "pycharm": {
     "name": "#%%\n"
    }
   },
   "outputs": [],
   "source": [
    "# lets get all the tickers in our dataframe\n",
    "stock_market_df['ticker']"
   ]
  },
  {
   "cell_type": "code",
   "execution_count": null,
   "metadata": {},
   "outputs": [],
   "source": [
    "# there's a lot of duplicate values, so we can use the unique() method to get a list of unique values\n",
    "stock_market_df['ticker'].unique()\n",
    "\n",
    "# how many unique tickers are in our dataframe?\n",
    "len(stock_market_df['ticker'].unique())"
   ]
  },
  {
   "cell_type": "code",
   "execution_count": null,
   "metadata": {
    "pycharm": {
     "name": "#%%\n"
    }
   },
   "outputs": [],
   "source": [
    "# lets get the data in the 10th row of our dataframe\n",
    "stock_market_df.loc[10]"
   ]
  },
  {
   "cell_type": "code",
   "execution_count": null,
   "metadata": {
    "pycharm": {
     "name": "#%%\n"
    }
   },
   "outputs": [],
   "source": [
    "# lets get the data for the MSFT ticker\n",
    "msft_data = stock_market_df[stock_market_df['ticker'] == 'MSFT']\n",
    "msft_data\n"
   ]
  },
  {
   "cell_type": "code",
   "execution_count": null,
   "metadata": {
    "pycharm": {
     "name": "#%%\n"
    }
   },
   "outputs": [],
   "source": [
    "# lets get the data for the MSFT and the GOOG tickers\n",
    "msft_and_goog_data = stock_market_df[stock_market_df['ticker'].isin(['MSFT', 'GOOG'])]\n",
    "msft_and_goog_data\n"
   ]
  },
  {
   "cell_type": "code",
   "execution_count": null,
   "metadata": {
    "pycharm": {
     "name": "#%%\n"
    }
   },
   "outputs": [],
   "source": [
    "# what are the data types of each column in our dataframe?\n",
    "stock_market_df.dtypes"
   ]
  },
  {
   "cell_type": "code",
   "execution_count": null,
   "metadata": {},
   "outputs": [],
   "source": [
    "# lets convert the date column to a datetime object. this will allow us to do some cool things with the data\n",
    "stock_market_df['date'] = pd.to_datetime(stock_market_df['date'])\n",
    "stock_market_df.dtypes"
   ]
  },
  {
   "cell_type": "code",
   "execution_count": null,
   "metadata": {
    "pycharm": {
     "name": "#%%\n"
    }
   },
   "outputs": [],
   "source": [
    "# which rows have highs greater than 200?\n",
    "greater_than_200 = stock_market_df[stock_market_df['high'] > 200]\n",
    "greater_than_200\n"
   ]
  },
  {
   "cell_type": "code",
   "execution_count": null,
   "metadata": {},
   "outputs": [],
   "source": [
    "# which rows closed lower than they opened?\n",
    "closed_lower_than_open = stock_market_df[stock_market_df['close'] < stock_market_df['open']]\n",
    "closed_lower_than_open"
   ]
  },
  {
   "cell_type": "code",
   "execution_count": null,
   "metadata": {},
   "outputs": [],
   "source": [
    "# try to get the data for the AAPL ticker on 2023-02-14 (hint: you'll need to use logical and (represented by the & operator))\n"
   ]
  },
  {
   "cell_type": "code",
   "execution_count": null,
   "metadata": {},
   "outputs": [],
   "source": [
    "# try to get the data for the AAPL ticker on 2023-02-14 and the GOOG ticker on 2023-02-15 (hint: you'll need to use logical or (represented by the | operator))"
   ]
  },
  {
   "cell_type": "code",
   "execution_count": null,
   "metadata": {},
   "outputs": [],
   "source": [
    "# try writing your own conditional!"
   ]
  },
  {
   "cell_type": "markdown",
   "metadata": {},
   "source": [
    "# Yahoo Finance API\n",
    "\n",
    "### [Documentation](https://pypi.org/project/yfinance/)\n",
    "\n",
    "### Motivation for using the API\n",
    "We have this static dataset of stock data, but what if we want to get the most recent data? \n",
    "Should I have to go to a website and manually input the data? This manual entry is prone to errors and can become tedious when there are hundreds of tickers with hundreds of data points for each ticker.\n",
    "Instead of manually entering this data, we can use we can use the Yahoo Finance API!"
   ]
  },
  {
   "cell_type": "code",
   "execution_count": null,
   "metadata": {},
   "outputs": [],
   "source": [
    "# since yfinance is an external library, we need to install it first\n",
    "!pip install yfinance"
   ]
  },
  {
   "cell_type": "code",
   "execution_count": null,
   "metadata": {},
   "outputs": [],
   "source": [
    "import yfinance as yf"
   ]
  },
  {
   "cell_type": "code",
   "execution_count": null,
   "metadata": {},
   "outputs": [],
   "source": [
    "# lets make the same dataframe using yfinance\n",
    "tickers = [\"AAPL\", \"MSFT\", \"GOOG\"]\n",
    "start_date = \"2023-02-14\"\n",
    "end_date = \"2023-02-18\"\n",
    "\n",
    "yf_df = yf.download(tickers, start=start_date, end=end_date, group_by='Ticker')\n",
    "\n",
    "yf_df"
   ]
  },
  {
   "cell_type": "code",
   "execution_count": null,
   "metadata": {},
   "outputs": [],
   "source": [
    "# the format isn't the same. lets format this dataframe to look like our stock_market_df so it's easier to work with\n",
    "yf_df = yf_df.stack(level=0).rename_axis(['Date', 'Ticker']).reset_index(level=1)\n",
    "\n",
    "yf_df"
   ]
  },
  {
   "cell_type": "markdown",
   "metadata": {
    "pycharm": {
     "name": "#%% md\n"
    }
   },
   "source": [
    "# Putting it all Together: Visualizations with matplotlib\n",
    "\n",
    "### [Documentation](https://matplotlib.org/stable/api/index)\n",
    "\n",
    "Now that we've retrieved our data, let's visualize it with matplotlib, a library for plotting data!\n",
    "\n"
   ]
  },
  {
   "cell_type": "code",
   "execution_count": null,
   "metadata": {},
   "outputs": [],
   "source": [
    "import matplotlib.pyplot as plt"
   ]
  },
  {
   "cell_type": "code",
   "execution_count": null,
   "metadata": {},
   "outputs": [],
   "source": [
    "# lets get the data for the MSFT ticker and store it in a variable\n",
    "msft = yf_df[yf_df['Ticker'] == 'MSFT']\n",
    "msft"
   ]
  },
  {
   "cell_type": "code",
   "execution_count": null,
   "metadata": {
    "pycharm": {
     "name": "#%%\n"
    }
   },
   "outputs": [],
   "source": [
    "# let's then extract the date and the close price from the dataframe and store it in a variable\n",
    "\n",
    "# since date is the index of our dataframe, we can use the index to get the date\n",
    "date = msft.index\n",
    "close = msft['Close']"
   ]
  },
  {
   "cell_type": "code",
   "execution_count": null,
   "metadata": {},
   "outputs": [],
   "source": [
    "# let's plot our data!\n",
    "\n",
    "# styling\n",
    "fig, ax = plt.subplots()\n",
    "\n",
    "ax.plot(date, close)\n",
    "\n",
    "ax.set_xlabel('Date')\n",
    "\n",
    "ax.set_ylabel('Close Price')\n",
    "\n",
    "ax.set_title('Microsoft (MSFT) Close Prices')\n",
    "\n",
    "ax.set_xticks(date)"
   ]
  },
  {
   "cell_type": "code",
   "execution_count": null,
   "metadata": {
    "pycharm": {
     "name": "#%%\n"
    }
   },
   "outputs": [],
   "source": [
    "# lets plot the difference between the high and low prices of GOOG for each day\n",
    "goog = yf_df[yf_df['Ticker'] == 'GOOG']\n",
    "\n",
    "date = goog.index\n",
    "high = goog['Close']\n",
    "low = goog['Low']\n",
    "\n",
    "fig, ax = plt.subplots()\n",
    "\n",
    "ax.fill_between(date, high, low, color='blue', alpha=0.3)\n",
    "\n",
    "ax.set_xlabel('Date')\n",
    "\n",
    "ax.set_ylabel('Price')\n",
    "\n",
    "ax.set_title('Google (GOOG) High vs Low Prices')\n",
    "\n",
    "ax.set_xticks(date)\n"
   ]
  },
  {
   "cell_type": "code",
   "execution_count": null,
   "metadata": {},
   "outputs": [],
   "source": [
    "# what if your boss asked you to plot the difference between the high and low prices for all the stocks in our dataframe?\n",
    "# we would have to write a lot of code to do this. let's write a function to do this for us\n",
    "\n",
    "def plot_high_vs_low(ticker):\n",
    "    stock_data = yf_df[yf_df['Ticker'] == ticker]\n",
    "\n",
    "    date = stock_data.index\n",
    "    close = stock_data['Close']\n",
    "    high = stock_data['High']\n",
    "    low = stock_data['Low']\n",
    "\n",
    "    fig, ax = plt.subplots()\n",
    "\n",
    "    ax.plot(date, close)\n",
    "\n",
    "    ax.fill_between(date, high, low, color='blue', alpha=0.3)\n",
    "\n",
    "    ax.set_xlabel('Date')\n",
    "\n",
    "    ax.set_ylabel('Price')\n",
    "\n",
    "    ax.set_title(f'{ticker} Close Prices')\n",
    "\n",
    "    ax.set_xticks(date)"
   ]
  },
  {
   "cell_type": "code",
   "execution_count": null,
   "metadata": {},
   "outputs": [],
   "source": [
    "# your turn! write a function that plots the volume of a stock over time"
   ]
  },
  {
   "cell_type": "code",
   "execution_count": null,
   "metadata": {},
   "outputs": [],
   "source": [
    "# write a function that plots the price ratio (closing price/opening price) of a stock over time. "
   ]
  },
  {
   "cell_type": "code",
   "execution_count": null,
   "metadata": {},
   "outputs": [],
   "source": [
    "# challenge! investigate another ratio that you think might be interesting to plot."
   ]
  },
  {
   "cell_type": "code",
   "execution_count": null,
   "metadata": {},
   "outputs": [],
   "source": [
    "# challenge! write a function that plots the difference between the close and adjusted close prices of a stock over time"
   ]
  }
 ],
 "metadata": {
  "kernelspec": {
   "display_name": "Python 3.10.9 ('venv': venv)",
   "language": "python",
   "name": "python3"
  },
  "language_info": {
   "codemirror_mode": {
    "name": "ipython",
    "version": 3
   },
   "file_extension": ".py",
   "mimetype": "text/x-python",
   "name": "python",
   "nbconvert_exporter": "python",
   "pygments_lexer": "ipython3",
   "version": "3.10.9"
  },
  "orig_nbformat": 4,
  "vscode": {
   "interpreter": {
    "hash": "cc1513d90b5ed214182ea35a5e982723afb46995a63350b03a09f63b9f4d5f3b"
   }
  }
 },
 "nbformat": 4,
 "nbformat_minor": 2
}
