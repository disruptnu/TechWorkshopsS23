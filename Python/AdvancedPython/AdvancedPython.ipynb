{
 "cells": [
  {
   "cell_type": "markdown",
   "metadata": {},
   "source": [
    "# Advanced Python\n",
    "\n",
    "Now that we understand the intermediate concepts of Python, we can start to explore some of the more advanced features of the language."
   ]
  },
  {
   "cell_type": "markdown",
   "metadata": {},
   "source": [
    "# What you'll be able to do after this workshop\n",
    "\n",
    "- Understand best practices, and advanced features of Python such as\n",
    "  - type hints\n",
    "  - comprehensions\n",
    "  - slicing\n",
    "- Build a simple dashboard to visualize data using Plotly Dash\n"
   ]
  },
  {
   "cell_type": "markdown",
   "metadata": {},
   "source": [
    "# \"Pythonic\" code\n",
    "\n",
    "To be \"Pythonic\" means to follow the defined best practices and use Python's built-in functions and syntax to achieve the desired outcome in the most efficient and readable way possible. While there are many ways to write code in Python, there are some ways that are more efficient, readable, and \"acceptable\" than others. In this section, we will explore some of the best practices and advanced features of Python."
   ]
  },
  {
   "cell_type": "markdown",
   "metadata": {},
   "source": [
    "# Type hints\n",
    "\n",
    "While you don't have to explicitly type functions and variables in Python, it is possible to add type hints to your code. This is useful for documentation, and for static type checking. Some may argue that adding type hints are a waste of time, but they can be useful for large projects, and for code that is meant to be shared with others. Trust me, everyone, including yourself, will thank you for adding type hints to your code."
   ]
  },
  {
   "cell_type": "code",
   "execution_count": null,
   "metadata": {},
   "outputs": [],
   "source": [
    "from typing import List\n",
    "\n",
    "def process_v1(x: List[str]) -> List[str]:\n",
    "    for i, string in enumerate(x):\n",
    "        x[i] = string.upper()\n",
    "    return x"
   ]
  },
  {
   "cell_type": "code",
   "execution_count": null,
   "metadata": {},
   "outputs": [],
   "source": [
    "def process_v2(x: List[str]) -> None:\n",
    "    for i, string in enumerate(x):\n",
    "        x[i] = string.upper()"
   ]
  },
  {
   "cell_type": "code",
   "execution_count": null,
   "metadata": {},
   "outputs": [],
   "source": [
    "# what is the difference between these two functions? how do the type hints help us?"
   ]
  },
  {
   "cell_type": "code",
   "execution_count": null,
   "metadata": {},
   "outputs": [],
   "source": [
    "def double(x: int) -> int:\n",
    "    return x * 2\n",
    "\n",
    "# since type hints are not enforced, this will work\n",
    "# but notice how the editor will complain\n",
    "print(double('hello'))\n",
    "print(double([1, 2, 3]))"
   ]
  },
  {
   "cell_type": "markdown",
   "metadata": {},
   "source": [
    "# Comprehensions\n",
    "\n",
    "Python's comprehensions are a concise and readable way to construct lists, dictionaries, and sets, making code more elegant and efficient."
   ]
  },
  {
   "cell_type": "code",
   "execution_count": null,
   "metadata": {},
   "outputs": [],
   "source": [
    "def ranger(start: int, end: int) -> List[int]:\n",
    "    numbers = []\n",
    "    for n in range(start, end):\n",
    "        numbers.append(n)\n",
    "    return numbers\n",
    "\n",
    "ranger(1, 11)"
   ]
  },
  {
   "cell_type": "code",
   "execution_count": null,
   "metadata": {},
   "outputs": [],
   "source": [
    "# using a list comprehension, we can write this in a much more concise way\n",
    "def ranger_comp(start: int, end: int) -> List[int]:\n",
    "    return [n for n in range(start, end)]\n",
    "\n",
    "ranger_comp(1,11)"
   ]
  },
  {
   "cell_type": "code",
   "execution_count": null,
   "metadata": {},
   "outputs": [],
   "source": [
    "def even_ranger(start: int, end: int) -> List[int]:\n",
    "    numbers = []\n",
    "    for n in range(start, end):\n",
    "        if n % 2 == 0:\n",
    "            numbers.append(n)\n",
    "    return numbers\n",
    "\n",
    "even_ranger(1, 11)"
   ]
  },
  {
   "cell_type": "code",
   "execution_count": null,
   "metadata": {},
   "outputs": [],
   "source": [
    "# list comprehensions also allow us to filter passed on a condition\n",
    "def even_ranger_comp(start: int, end: int) -> List[int]:\n",
    "    return [n for n in range(start, end) if n % 2 == 0]\n",
    "\n",
    "even_ranger_comp(1, 11)"
   ]
  },
  {
   "cell_type": "code",
   "execution_count": null,
   "metadata": {},
   "outputs": [],
   "source": [
    "# another example of a list comprehension with a more advanced condition\n",
    "best_friends = ['Anna', 'Muneer']\n",
    "friends = ['John', 'Sarah', 'Muneer', 'Bob', 'Anna', 'Alice']\n",
    "\n",
    "[friend for friend in friends if friend in best_friends]"
   ]
  },
  {
   "cell_type": "code",
   "execution_count": null,
   "metadata": {},
   "outputs": [],
   "source": [
    "from typing import Dict\n",
    "\n",
    "def dict_factory(names: List[str], ages: List[int]) -> Dict[str, int]:\n",
    "    name_to_age = {}\n",
    "    for name, age in zip(names, ages):\n",
    "        name_to_age[name] = age\n",
    "    return name_to_age\n",
    "\n",
    "dict_factory(['Alice', 'Bob', 'Charlie'], [20, 21, 22])"
   ]
  },
  {
   "cell_type": "code",
   "execution_count": null,
   "metadata": {},
   "outputs": [],
   "source": [
    "# using a dictionary comprehension we can write this in a much more concise way\n",
    "def dict_factory_comp(names: List[str], ages: List[int]) -> Dict[str, int]:\n",
    "    return {name: age for name, age in zip(names, ages)}\n",
    "\n",
    "dict_factory(['Alice', 'Bob', 'Charlie'], [20, 21, 22])"
   ]
  },
  {
   "cell_type": "code",
   "execution_count": null,
   "metadata": {},
   "outputs": [],
   "source": [
    "from typing import Set\n",
    "\n",
    "# we can also use a comprehension to create a set\n",
    "def set_factory_comp(names: List[str]) -> Set[str]:\n",
    "    return {name for name in names}\n",
    "\n",
    "set_factory_comp(['Alice', 'Bob', 'Charlie', 'Alice', 'Bob', 'Charlie'])"
   ]
  },
  {
   "cell_type": "code",
   "execution_count": null,
   "metadata": {},
   "outputs": [],
   "source": [
    "# in Python, we can iterate over a string just like a list\n",
    "[letter for letter in 'hello']"
   ]
  },
  {
   "cell_type": "code",
   "execution_count": null,
   "metadata": {},
   "outputs": [],
   "source": [
    "# challenge: create a list of all vowels in a string\n",
    "\n",
    "def vowelify(string: str) -> List[str]:\n",
    "    ..."
   ]
  },
  {
   "cell_type": "code",
   "execution_count": null,
   "metadata": {},
   "outputs": [],
   "source": [
    "# challenge: complete this function with a list comprehension\n",
    "\n",
    "def is_palindrome(lst: str) -> bool:\n",
    "    ...\n",
    "    \n",
    "# there has to be an easier, more Pythonic way to do this..."
   ]
  },
  {
   "cell_type": "markdown",
   "metadata": {},
   "source": [
    "# Slicing\n",
    "\n",
    "Slicing is a way to access a subset of a sequence. It is a very powerful feature of Python, and is used in many places in the language. It is also a very common source of bugs, so it is important to understand how it works."
   ]
  },
  {
   "cell_type": "code",
   "execution_count": null,
   "metadata": {},
   "outputs": [],
   "source": [
    "lst = [0, 1, 2, 3, 4, 5, 6, 7, 8, 9]\n",
    "\n",
    "# indexing allows us to access a specific element in a list\n",
    "lst[0]\n"
   ]
  },
  {
   "cell_type": "code",
   "execution_count": null,
   "metadata": {},
   "outputs": [],
   "source": [
    "# building on the previous example, we can use negative indexing to access elements from the end of the list\n",
    "\n",
    "# last element\n",
    "print(lst[-1])\n",
    "\n",
    "# second to last element\n",
    "print(lst[-2])"
   ]
  },
  {
   "cell_type": "code",
   "execution_count": null,
   "metadata": {},
   "outputs": [],
   "source": [
    "# but what if we wanted a sublist of the list?\n",
    "\n",
    "# if we wanted the first 3 elements, we could do this\n",
    "\n",
    "new_list = []\n",
    "new_list.append(lst[0])\n",
    "new_list.append(lst[1])\n",
    "new_list.append(lst[2])\n",
    "\n",
    "new_list"
   ]
  },
  {
   "cell_type": "code",
   "execution_count": null,
   "metadata": {},
   "outputs": [],
   "source": [
    "# however, python has a much more concise way of doing this with slicing\n",
    "# we can use the slice operator to get a sublist of a list from the start index to the end index exclusive\n",
    "\n",
    "print(lst[0:3])\n",
    "\n",
    "# the start index defaults to 0, so we can omit it\n",
    "print(lst[:3])"
   ]
  },
  {
   "cell_type": "code",
   "execution_count": null,
   "metadata": {},
   "outputs": [],
   "source": [
    "# similarly, the end index defaults to the length of the list, so we can omit it\n",
    "\n",
    "# if we wanted from the third index to the end of the list, we could do this\n",
    "lst[3:]"
   ]
  },
  {
   "cell_type": "code",
   "execution_count": null,
   "metadata": {},
   "outputs": [],
   "source": [
    "# we can also add a step size to the slice operator\n",
    "# in the other cases, the step size defaults to 1, so we omitted it\n",
    "lst[2:8:2]"
   ]
  },
  {
   "cell_type": "code",
   "execution_count": null,
   "metadata": {},
   "outputs": [],
   "source": [
    "# we can also use a step size of -1 to reverse the list\n",
    "lst[::-1]"
   ]
  },
  {
   "cell_type": "code",
   "execution_count": null,
   "metadata": {},
   "outputs": [],
   "source": [
    "# what does a step size of -2 do?\n"
   ]
  },
  {
   "cell_type": "code",
   "execution_count": null,
   "metadata": {},
   "outputs": [],
   "source": [
    "# putting all this together, how can we get the elements with even indexes with slicing?\n"
   ]
  },
  {
   "cell_type": "code",
   "execution_count": null,
   "metadata": {},
   "outputs": [],
   "source": [
    "# now that we have slicing in our toolbox, how can we use it to reverse a string?\n"
   ]
  },
  {
   "cell_type": "code",
   "execution_count": null,
   "metadata": {},
   "outputs": [],
   "source": [
    "# how can we use slicing to solve the palindrome problem?\n"
   ]
  },
  {
   "cell_type": "markdown",
   "metadata": {},
   "source": [
    "# Building a dashboard\n",
    "\n",
    "Plotly Dash is a Python framework for building interactive web applications. You can easily build a dashboard without any knowledge of HTML, CSS, or JavaScript. In this section, we will build a simple dashboard to visualize data."
   ]
  },
  {
   "cell_type": "code",
   "execution_count": null,
   "metadata": {},
   "outputs": [],
   "source": [
    "# install the dependencies\n",
    "!pip install dash jupyter-dash"
   ]
  },
  {
   "cell_type": "code",
   "execution_count": null,
   "metadata": {},
   "outputs": [],
   "source": [
    "from dash import dcc, html\n",
    "from dash.dependencies import Input, Output\n",
    "import datetime\n",
    "from jupyter_dash import JupyterDash\n",
    "\n",
    "# create the app\n",
    "app = JupyterDash()"
   ]
  },
  {
   "cell_type": "code",
   "execution_count": null,
   "metadata": {},
   "outputs": [],
   "source": [
    "# setup the layout\n",
    "app.layout = html.Div(children=[\n",
    "    # the heading\n",
    "    html.H1(children='Stock Price Dashboard'),\n",
    "    \n",
    "    # a message prompting the user to enter a stock symbol\n",
    "    html.Div(children=\"Enter a stock symbol to see its price history:\"),\n",
    "    \n",
    "    # the input box\n",
    "    dcc.Input(id='input', value='', type='text'),\n",
    "    \n",
    "    # the submit button\n",
    "    html.Button('Submit', id='submit'),\n",
    "    \n",
    "    # the graph\n",
    "    html.Div(id='output-container')\n",
    "])"
   ]
  },
  {
   "cell_type": "code",
   "execution_count": null,
   "metadata": {},
   "outputs": [],
   "source": [
    "from turtle import title\n",
    "import yfinance as yf\n",
    "import plotly.express as px\n",
    "\n",
    "@app.callback(Output('output-container', 'children'),\n",
    "              [Input('submit', 'n_clicks')],\n",
    "              [Input('input', 'value')])\n",
    "def update_graph(n_clicks, value):\n",
    "    # if the submit button has been clicked\n",
    "    if n_clicks:\n",
    "        # if the input box is not empty\n",
    "        if value:\n",
    "            # retrieve the stock data for the input symbol\n",
    "            stock_data = yf.Ticker(value).history(period='10y')\n",
    "            if len(stock_data) > 0:\n",
    "                # display the graph\n",
    "                return dcc.Graph(id='output-graph', figure=px.line(stock_data, x=stock_data.index, y='Close', title=f'{value} Stock Price History'))\n",
    "            else:\n",
    "                # display an error message\n",
    "                return html.Div(children=\"Invalid stock symbol.\")\n",
    "        else:\n",
    "            # display an error message\n",
    "            return html.Div(children=\"Please enter a stock symbol.\")\n",
    "    else:\n",
    "        # don't display anything\n",
    "        return None"
   ]
  },
  {
   "cell_type": "code",
   "execution_count": null,
   "metadata": {},
   "outputs": [],
   "source": [
    "app.run_server(mode=\"inline\")"
   ]
  }
 ],
 "metadata": {
  "kernelspec": {
   "display_name": "Python 3.10.9 64-bit",
   "language": "python",
   "name": "python3"
  },
  "language_info": {
   "codemirror_mode": {
    "name": "ipython",
    "version": 3
   },
   "file_extension": ".py",
   "mimetype": "text/x-python",
   "name": "python",
   "nbconvert_exporter": "python",
   "pygments_lexer": "ipython3",
   "version": "3.10.9"
  },
  "orig_nbformat": 4,
  "vscode": {
   "interpreter": {
    "hash": "44a9cdcbdccbf05a880e90d2e6fe72470baab4d1b82472d890be0596ed887a6b"
   }
  }
 },
 "nbformat": 4,
 "nbformat_minor": 2
}
