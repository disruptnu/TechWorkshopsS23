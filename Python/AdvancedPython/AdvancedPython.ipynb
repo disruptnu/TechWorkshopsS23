{
 "cells": [
  {
   "cell_type": "markdown",
   "metadata": {},
   "source": [
    "# Advanced Python\n",
    "\n",
    "Now that we understand the intermediate concepts of Python, we can start to explore some of the more advanced features of the language.\n",
    "\n",
    "A workshop by Garrett Ladley."
   ]
  },
  {
   "cell_type": "markdown",
   "metadata": {},
   "source": [
    "# What you'll be able to do after this workshop\n",
    "\n",
    "- Understand best practices, and advanced features of Python such as\n",
    "  - type hints\n",
    "  - comprehensions\n",
    "  - slicing\n",
    "- Build a simple dashboard to visualize data using Plotly Dash"
   ]
  },
  {
   "cell_type": "markdown",
   "metadata": {},
   "source": [
    "# \"Pythonic\" code\n",
    "\n",
    "To be \"Pythonic\" means to follow the defined best practices and use Python's built-in functions and syntax to achieve the desired outcome in the most efficient and readable way possible. While there are many ways to write code in Python, there are some ways that are more efficient, readable, and \"acceptable\" than others. In this section, we will explore some of the best practices and advanced features of Python."
   ]
  },
  {
   "cell_type": "markdown",
   "metadata": {},
   "source": [
    "# Type hints\n",
    "\n",
    "While you don't have to explicitly type functions and variables in Python, it is possible to add type hints to your code. This is useful for documentation, and for static type checking. Some may argue that adding type hints are a waste of time, but they can be useful for large projects, and for code that is meant to be shared with others. Trust me, everyone, including yourself, will thank you for adding type hints to your code."
   ]
  },
  {
   "cell_type": "code",
   "execution_count": null,
   "metadata": {},
   "outputs": [],
   "source": [
    "from typing import List\n",
    "\n",
    "def process_v1(x: List[str]) -> List[str]:\n",
    "    for i, string in enumerate(x):\n",
    "        x[i] = string.upper()\n",
    "    return x"
   ]
  },
  {
   "cell_type": "code",
   "execution_count": null,
   "metadata": {},
   "outputs": [],
   "source": [
    "def process_v2(x: List[str]) -> None:\n",
    "    for i, string in enumerate(x):\n",
    "        x[i] = string.upper()"
   ]
  },
  {
   "cell_type": "code",
   "execution_count": null,
   "metadata": {},
   "outputs": [],
   "source": [
    "# what is the difference between these two functions? how do the type hints help us?"
   ]
  },
  {
   "cell_type": "code",
   "execution_count": null,
   "metadata": {},
   "outputs": [],
   "source": [
    "def double(x: int) -> int:\n",
    "    return x * 2\n",
    "\n",
    "# since type hints are not enforced, this will work\n",
    "# but notice how the editor will complain\n",
    "print(double('hello'))\n",
    "print(double([1, 2, 3]))"
   ]
  },
  {
   "cell_type": "markdown",
   "metadata": {},
   "source": [
    "# Comprehensions\n",
    "\n",
    "Python's comprehensions are a concise and readable way to construct lists, dictionaries, and sets, making code more elegant and efficient."
   ]
  },
  {
   "cell_type": "code",
   "execution_count": null,
   "metadata": {},
   "outputs": [],
   "source": [
    "def ranger(start: int, end: int) -> List[int]:\n",
    "    numbers = []\n",
    "    for n in range(start, end):\n",
    "        numbers.append(n)\n",
    "    return numbers\n",
    "\n",
    "ranger(1, 11)"
   ]
  },
  {
   "cell_type": "code",
   "execution_count": null,
   "metadata": {},
   "outputs": [],
   "source": [
    "# using a list comprehension, we can write this in a much more concise way\n",
    "def ranger_comp(start: int, end: int) -> List[int]:\n",
    "    return [n for n in range(start, end)]\n",
    "\n",
    "ranger_comp(1,11)"
   ]
  },
  {
   "cell_type": "code",
   "execution_count": null,
   "metadata": {},
   "outputs": [],
   "source": [
    "def even_ranger(start: int, end: int) -> List[int]:\n",
    "    numbers = []\n",
    "    for n in range(start, end):\n",
    "        if n % 2 == 0:\n",
    "            numbers.append(n)\n",
    "    return numbers\n",
    "\n",
    "even_ranger(1, 11)"
   ]
  },
  {
   "cell_type": "code",
   "execution_count": null,
   "metadata": {},
   "outputs": [],
   "source": [
    "# list comprehensions also allow us to filter passed on a condition\n",
    "def even_ranger_comp(start: int, end: int) -> List[int]:\n",
    "    return [n for n in range(start, end) if n % 2 == 0]\n",
    "\n",
    "even_ranger_comp(1, 11)"
   ]
  },
  {
   "cell_type": "code",
   "execution_count": null,
   "metadata": {},
   "outputs": [],
   "source": [
    "# another example of a list comprehension with a more advanced condition\n",
    "best_friends = ['Anna', 'Muneer']\n",
    "friends = ['John', 'Sarah', 'Muneer', 'Bob', 'Anna', 'Alice']\n",
    "\n",
    "[friend for friend in friends if friend in best_friends]"
   ]
  },
  {
   "cell_type": "code",
   "execution_count": null,
   "metadata": {},
   "outputs": [],
   "source": [
    "from typing import Dict\n",
    "\n",
    "def dict_factory(names: List[str], ages: List[int]) -> Dict[str, int]:\n",
    "    name_to_age = {}\n",
    "    for name, age in zip(names, ages):\n",
    "        name_to_age[name] = age\n",
    "    return name_to_age\n",
    "\n",
    "dict_factory(['Alice', 'Bob', 'Charlie'], [20, 21, 22])"
   ]
  },
  {
   "cell_type": "code",
   "execution_count": null,
   "metadata": {},
   "outputs": [],
   "source": [
    "# using a dictionary comprehension we can write this in a much more concise way\n",
    "def dict_factory_comp(names: List[str], ages: List[int]) -> Dict[str, int]:\n",
    "    return {name: age for name, age in zip(names, ages)}\n",
    "\n",
    "dict_factory(['Alice', 'Bob', 'Charlie'], [20, 21, 22])"
   ]
  },
  {
   "cell_type": "code",
   "execution_count": null,
   "metadata": {},
   "outputs": [],
   "source": [
    "from typing import Set\n",
    "\n",
    "# we can also use a comprehension to create a set\n",
    "# a set is a collection of unique elements where order does not matter\n",
    "def set_factory_comp(names: List[str]) -> Set[str]:\n",
    "    return {name for name in names}\n",
    "\n",
    "set_factory_comp(['Alice', 'Bob', 'Charlie', 'Alice', 'Bob', 'Charlie'])"
   ]
  },
  {
   "cell_type": "code",
   "execution_count": null,
   "metadata": {},
   "outputs": [],
   "source": [
    "# in Python, we can iterate over a string just like a list\n",
    "[letter for letter in 'hello']"
   ]
  },
  {
   "cell_type": "code",
   "execution_count": null,
   "metadata": {},
   "outputs": [],
   "source": [
    "# challenge: create a list of all vowels in a string\n",
    "\n",
    "def vowelify(string: str) -> List[str]:\n",
    "    ..."
   ]
  },
  {
   "cell_type": "code",
   "execution_count": null,
   "metadata": {},
   "outputs": [],
   "source": [
    "# challenge: complete this function with a list comprehension\n",
    "\n",
    "def is_palindrome(lst: str) -> bool:\n",
    "    ...\n",
    "    \n",
    "# there has to be an easier, more Pythonic way to do this..."
   ]
  },
  {
   "cell_type": "code",
   "execution_count": null,
   "metadata": {},
   "outputs": [],
   "source": [
    "# challenge: using what we know about sets, how can we get rid of duplicates in a list?\n",
    "\n",
    "# this is a generic function, which means it can be used with any type\n",
    "# it ensures that the return type is the same as the input type\n",
    "from typing import TypeVar\n",
    "\n",
    "T = TypeVar('T')\n",
    "\n",
    "def drop_duplicates(lst: List[T]) -> List[T]:\n",
    "    ..."
   ]
  },
  {
   "cell_type": "markdown",
   "metadata": {},
   "source": [
    "# Slicing\n",
    "\n",
    "Slicing is a way to access a subset of a sequence. It is a very powerful feature of Python, and is used in many places in the language. It is also a very common source of bugs, so it is important to understand how it works."
   ]
  },
  {
   "cell_type": "code",
   "execution_count": null,
   "metadata": {},
   "outputs": [],
   "source": [
    "lst = [0, 1, 2, 3, 4, 5, 6, 7, 8, 9]\n",
    "\n",
    "# indexing allows us to access a specific element in a list\n",
    "lst[0]\n"
   ]
  },
  {
   "cell_type": "code",
   "execution_count": null,
   "metadata": {},
   "outputs": [],
   "source": [
    "# building on the previous example, we can use negative indexing to access elements from the end of the list\n",
    "\n",
    "# last element\n",
    "print(lst[-1])\n",
    "\n",
    "# second to last element\n",
    "print(lst[-2])"
   ]
  },
  {
   "cell_type": "code",
   "execution_count": null,
   "metadata": {},
   "outputs": [],
   "source": [
    "# but what if we wanted a sublist of the list?\n",
    "\n",
    "# if we wanted the first 3 elements, we could do this\n",
    "\n",
    "new_list = []\n",
    "new_list.append(lst[0])\n",
    "new_list.append(lst[1])\n",
    "new_list.append(lst[2])\n",
    "\n",
    "print(new_list)\n",
    "\n",
    "# or \n",
    "new_list = []\n",
    "for i in range(3):\n",
    "    new_list.append(lst[i])\n",
    "    \n",
    "print(new_list)\n",
    "\n",
    "# or \n",
    "print([lst[i] for i in range(3)])\n"
   ]
  },
  {
   "cell_type": "code",
   "execution_count": null,
   "metadata": {},
   "outputs": [],
   "source": [
    "# however, python has a much more concise way of doing this with slicing\n",
    "# we can use the slice operator to get a sublist of a list from the start index to the end index exclusive\n",
    "\n",
    "print(lst[0:3])\n",
    "\n",
    "# the start index defaults to 0, so we can omit it\n",
    "print(lst[:3])"
   ]
  },
  {
   "cell_type": "code",
   "execution_count": null,
   "metadata": {},
   "outputs": [],
   "source": [
    "# similarly, the end index defaults to the length of the list, so we can omit it\n",
    "\n",
    "# if we wanted from the third index to the end of the list, we could do this\n",
    "lst[3:]"
   ]
  },
  {
   "cell_type": "code",
   "execution_count": null,
   "metadata": {},
   "outputs": [],
   "source": [
    "# we can also add a step size to the slice operator\n",
    "# in the other cases, the step size defaults to 1, so we omitted it\n",
    "lst[2:8:2]"
   ]
  },
  {
   "cell_type": "code",
   "execution_count": null,
   "metadata": {},
   "outputs": [],
   "source": [
    "# we can also use a step size of -1 to reverse the list\n",
    "lst[::-1]"
   ]
  },
  {
   "cell_type": "code",
   "execution_count": null,
   "metadata": {},
   "outputs": [],
   "source": [
    "# what does a step size of -2 do?\n"
   ]
  },
  {
   "cell_type": "markdown",
   "metadata": {},
   "source": [
    "# Slicing General Formula: `sequence[start:stop:step]`\n",
    "\n",
    "Remember, the `start` index is inclusive, and the `stop` index is exclusive!"
   ]
  },
  {
   "cell_type": "code",
   "execution_count": null,
   "metadata": {},
   "outputs": [],
   "source": [
    "# putting all this together, how can we get the elements with even indexes with slicing?\n"
   ]
  },
  {
   "cell_type": "code",
   "execution_count": null,
   "metadata": {},
   "outputs": [],
   "source": [
    "# now that we have slicing in our toolbox, how can we use it to reverse a string?\n"
   ]
  },
  {
   "cell_type": "code",
   "execution_count": null,
   "metadata": {},
   "outputs": [],
   "source": [
    "# how can we use slicing to solve the palindrome problem?\n"
   ]
  },
  {
   "cell_type": "markdown",
   "metadata": {},
   "source": [
    "# Building a dashboard\n",
    "\n",
    "Plotly Dash is a Python framework for building interactive web applications. You can easily build a dashboard without any knowledge of HTML, CSS, or JavaScript. In this section, we will build a simple dashboard to visualize data.\n",
    "\n",
    "Check out the documentation for Plotly Dash [here](https://dash.plotly.com/)."
   ]
  },
  {
   "cell_type": "code",
   "execution_count": null,
   "metadata": {},
   "outputs": [],
   "source": [
    "# install the dependencies\n",
    "!pip install dash jupyter-dash yfinance"
   ]
  },
  {
   "cell_type": "code",
   "execution_count": null,
   "metadata": {},
   "outputs": [],
   "source": [
    "from dash import dcc, html\n",
    "from dash.dependencies import Input, Output, State\n",
    "import datetime\n",
    "from jupyter_dash import JupyterDash\n",
    "import plotly.express as px\n",
    "import yfinance as yf"
   ]
  },
  {
   "cell_type": "code",
   "execution_count": null,
   "metadata": {},
   "outputs": [],
   "source": [
    "app = JupyterDash()"
   ]
  },
  {
   "cell_type": "code",
   "execution_count": null,
   "metadata": {},
   "outputs": [],
   "source": [
    "# setup the layout\n",
    "app.layout = html.Div(children=[\n",
    "    # the heading\n",
    "    html.H1(children='Stock Price Dashboard'),\n",
    "    \n",
    "    # a message prompting the user to enter a stock symbol\n",
    "    html.Div(children=\"Enter a stock symbol to see its price history:\"),\n",
    "    \n",
    "    # the input box\n",
    "    dcc.Input(id='input', value='', type='text', n_submit=0),\n",
    "    \n",
    "    # the graph\n",
    "    html.Div(id='output-container')\n",
    "])"
   ]
  },
  {
   "cell_type": "code",
   "execution_count": null,
   "metadata": {},
   "outputs": [],
   "source": [
    "@app.callback(Output('output-container', 'children'),\n",
    "              [Input('input', 'n_submit')],\n",
    "              [State('input', 'value')],\n",
    "              prevent_initial_call=True,\n",
    "              debounce=True)\n",
    "def update_graph(n_submit, value):\n",
    "    if n_submit:\n",
    "        # if the input box is not empty\n",
    "        if value:\n",
    "            # retrieve the stock data for the input symbol\n",
    "            stock_data = yf.Ticker(value).history(period='max')\n",
    "            if len(stock_data) > 0:\n",
    "                # display the graph\n",
    "                return dcc.Graph(id='output-graph', figure=px.line(stock_data, x=stock_data.index, y='Close', title=f'{value} Stock Price History'))\n",
    "            else:\n",
    "                # display an error message\n",
    "                return html.Div(children=\"Invalid stock symbol.\")\n",
    "    return None"
   ]
  },
  {
   "cell_type": "code",
   "execution_count": null,
   "metadata": {},
   "outputs": [],
   "source": [
    "app.run_server(mode=\"inline\")"
   ]
  },
  {
   "cell_type": "markdown",
   "metadata": {},
   "source": [
    "# Challenge: how can we make a dashboard that will plot multiple stocks at once?"
   ]
  },
  {
   "cell_type": "markdown",
   "metadata": {},
   "source": [
    "## Primers"
   ]
  },
  {
   "cell_type": "code",
   "execution_count": null,
   "metadata": {},
   "outputs": [],
   "source": [
    "# splitting a comma separated string into a list\n",
    "string = \"SPY,QQQ,MSFT,META\"\n",
    "string.split(\",\")"
   ]
  },
  {
   "cell_type": "code",
   "execution_count": null,
   "metadata": {},
   "outputs": [],
   "source": [
    "# what if there is a bad ticker? should that stop the rest of the tickers from being plotted?\n",
    "# how can we use an if statement, our previous bad ticker logic, and a list to keep track of valid tickers?"
   ]
  },
  {
   "cell_type": "code",
   "execution_count": null,
   "metadata": {},
   "outputs": [],
   "source": [
    "import pandas as pd"
   ]
  },
  {
   "cell_type": "code",
   "execution_count": null,
   "metadata": {},
   "outputs": [],
   "source": [
    "# px.line() takes in a dataframe as input, so we need to make requests for each stock ticker and combine them into a single dataframe\n",
    "\n",
    "# Define dictionary with sample data\n",
    "meta = {'Date': ['2022-01-03', '2022-01-04', '2022-01-05', '2022-01-06', '2022-01-07'],\n",
    "        'Open': [78.10, 78.80, 79.60, 78.70, 78.80],\n",
    "        'Close': [79.20, 79.00, 79.50, 78.40, 79.00]}\n",
    "\n",
    "meta_df = pd.DataFrame(meta)"
   ]
  },
  {
   "cell_type": "code",
   "execution_count": null,
   "metadata": {},
   "outputs": [],
   "source": [
    "# we've only cared about the closing price so far, so let's select that column and change the name to the stock ticker\n",
    "meta_df = meta_df[['Close']].rename(columns={'Close': 'META'})\n",
    "meta_df"
   ]
  },
  {
   "cell_type": "code",
   "execution_count": null,
   "metadata": {},
   "outputs": [],
   "source": [
    "# similar to how we would create an empty list and append to it, we can create an empty dataframe and append to it\n",
    "\n",
    "main = pd.DataFrame()\n",
    "\n",
    "# now we can append other ticker dataframes to the main dataframe\n",
    "spy = pd.DataFrame({'Date': ['2022-01-03', '2022-01-04', '2022-01-05', '2022-01-06', '2022-01-07'],\n",
    "                    'Open': [450.10, 450.80, 451.60, 450.70, 450.80],\n",
    "                    'Close': [451.20, 451.00, 451.50, 450.40, 451.00]})\n",
    "\n",
    "spy_df = pd.DataFrame(spy)\n",
    "\n",
    "spy_df = spy_df[['Close']].rename(columns={'Close': 'SPY'})\n",
    "\n",
    "main = pd.concat([main, meta_df], axis=1)\n",
    "main = pd.concat([main, spy_df], axis=1)\n",
    "\n",
    "\n",
    "# now we have our data how we want it\n",
    "main"
   ]
  },
  {
   "cell_type": "code",
   "execution_count": null,
   "metadata": {},
   "outputs": [],
   "source": [
    "# putting this all together, and reusing some code from our previous challenge, how can we plot multiple stocks at once?\n",
    "# input will be collected in the same way, except it will be stock tickers separated by commas\n"
   ]
  },
  {
   "cell_type": "code",
   "execution_count": null,
   "metadata": {},
   "outputs": [],
   "source": [
    "# challenge: how can we abstract this into a function that will take in what we want to plot as a parameter instead of hardcoding it to close?"
   ]
  }
 ],
 "metadata": {
  "kernelspec": {
   "display_name": "Python 3.10.9 64-bit",
   "language": "python",
   "name": "python3"
  },
  "language_info": {
   "codemirror_mode": {
    "name": "ipython",
    "version": 3
   },
   "file_extension": ".py",
   "mimetype": "text/x-python",
   "name": "python",
   "nbconvert_exporter": "python",
   "pygments_lexer": "ipython3",
   "version": "3.10.9"
  },
  "orig_nbformat": 4,
  "vscode": {
   "interpreter": {
    "hash": "44a9cdcbdccbf05a880e90d2e6fe72470baab4d1b82472d890be0596ed887a6b"
   }
  }
 },
 "nbformat": 4,
 "nbformat_minor": 2
}
