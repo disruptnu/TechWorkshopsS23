{
 "cells": [
  {
   "cell_type": "markdown",
   "metadata": {
    "pycharm": {
     "name": "#%% md\n"
    },
    "slideshow": {
     "slide_type": "slide"
    }
   },
   "source": [
    "\n",
    "# Intro to Python"
   ]
  },
  {
   "cell_type": "markdown",
   "metadata": {
    "pycharm": {
     "name": "#%% md\n"
    }
   },
   "source": [
    "Python is a popular programming language that is known for its simplicity and readability. Python can be used for a wide variety of tasks, including web development, data analysis, artificial intelligence, and more. \n",
    "\n",
    "This workshop will not cover everything in Python but will instead serve as a jumping off point for Python and programming in general. If you would like, please consider the following resources:\n",
    "\n",
    "**Getting Started with Python**:\n",
    "\n",
    "* [GeeksForGeeks](https://www.geeksforgeeks.org/python-programming-language/)\n",
    "* [Web3Schools](https://www.w3schools.com/python/)\n",
    "* [learnpython.org](https://www.learnpython.org/)\n",
    "\n",
    "\n",
    "**Python Reference**:\n",
    "\n",
    "* [Python Documentation](https://docs.python.org/3.11/)"
   ]
  },
  {
   "cell_type": "markdown",
   "metadata": {},
   "source": [
    "# What you'll be able to do after this workshop\n",
    "\n",
    "* Understand the basics of programming in Python\n",
    "  * Data Types\n",
    "  * Data Structures\n",
    "  * Variables\n",
    "  * Arithmetic\n",
    "  * Writing & Calling Functions"
   ]
  },
  {
   "cell_type": "markdown",
   "metadata": {
    "pycharm": {
     "name": "#%% md\n"
    }
   },
   "source": [
    "# Getting Started: Data Types\n",
    "\n",
    "* Numbers\n",
    "  * integers (`int`)\n",
    "  * floating-point (`float`)\n",
    "* strings (`str`)\n",
    "* boolean values (`bool`)"
   ]
  },
  {
   "cell_type": "markdown",
   "metadata": {
    "pycharm": {
     "name": "#%% md\n"
    }
   },
   "source": [
    "#### Numbers"
   ]
  },
  {
   "cell_type": "code",
   "execution_count": null,
   "metadata": {
    "pycharm": {
     "name": "#%%\n"
    }
   },
   "outputs": [],
   "source": [
    "1"
   ]
  },
  {
   "cell_type": "code",
   "execution_count": null,
   "metadata": {},
   "outputs": [],
   "source": [
    "1.4"
   ]
  },
  {
   "cell_type": "code",
   "execution_count": null,
   "metadata": {
    "pycharm": {
     "name": "#%%\n"
    }
   },
   "outputs": [],
   "source": [
    "# Type your own\n"
   ]
  },
  {
   "cell_type": "code",
   "execution_count": null,
   "metadata": {},
   "outputs": [],
   "source": [
    "# Integers are separate from floating point numbers\n",
    "print(type(20))\n",
    "print(type(20.0))"
   ]
  },
  {
   "cell_type": "markdown",
   "metadata": {
    "pycharm": {
     "name": "#%% md\n"
    }
   },
   "source": [
    "#### Strings"
   ]
  },
  {
   "cell_type": "code",
   "execution_count": null,
   "metadata": {
    "pycharm": {
     "name": "#%%\n"
    }
   },
   "outputs": [],
   "source": [
    "\"apple\""
   ]
  },
  {
   "cell_type": "code",
   "execution_count": null,
   "metadata": {
    "pycharm": {
     "name": "#%%\n"
    }
   },
   "outputs": [],
   "source": [
    "# Type your own\n"
   ]
  },
  {
   "cell_type": "markdown",
   "metadata": {
    "pycharm": {
     "name": "#%% md\n"
    }
   },
   "source": [
    "#### Boolean Values"
   ]
  },
  {
   "cell_type": "code",
   "execution_count": null,
   "metadata": {
    "pycharm": {
     "name": "#%%\n"
    }
   },
   "outputs": [],
   "source": [
    "True"
   ]
  },
  {
   "cell_type": "code",
   "execution_count": null,
   "metadata": {
    "pycharm": {
     "name": "#%%\n"
    },
    "scrolled": true
   },
   "outputs": [],
   "source": [
    "False"
   ]
  },
  {
   "cell_type": "markdown",
   "metadata": {},
   "source": [
    "# Note: a `#` symbol indicates a comment that will not be executed when running the code\n",
    "It is good practice to make comments throughout your code to explain your thinking to others. It can even be helpful to you if you take a break between sessions!"
   ]
  },
  {
   "cell_type": "code",
   "execution_count": null,
   "metadata": {},
   "outputs": [],
   "source": [
    "# this is a comment"
   ]
  },
  {
   "cell_type": "code",
   "execution_count": null,
   "metadata": {},
   "outputs": [],
   "source": [
    "\"\"\"\n",
    "this is a multi-line comment\n",
    "\"\"\""
   ]
  },
  {
   "cell_type": "markdown",
   "metadata": {
    "pycharm": {
     "name": "#%% md\n"
    }
   },
   "source": [
    "# Data Structures: lists and dictionaries\n",
    "\n",
    "Python has some useful data structures built into the language:\n",
    "\n",
    "* lists: [ ] (`list`)\n",
    "  * lists are used to represent ordered collections of data. For example, a list of stock prices, a list of names, etc.\n",
    "* dictionaries: { } (`dict`)\n",
    "  * dictionaries are used to represent a mapping between two pieces of data with key value pairs. For example, a dictionary of stock tickers to stock prices, a dictionary of names to ages, etc."
   ]
  },
  {
   "cell_type": "code",
   "execution_count": 1,
   "metadata": {},
   "outputs": [],
   "source": [
    "ex_list = [\n",
    "    \"Disrupt\", \n",
    "    \"Fintech\", \n",
    "    \"Initiative\"\n",
    "]\n",
    "\n",
    "ex_dict = {\n",
    "    \"AAPL\": 125.07,\n",
    "    \"MSFT\": 239.58,\n",
    "    \"META\": 124.74\n",
    "}"
   ]
  },
  {
   "cell_type": "code",
   "execution_count": null,
   "metadata": {
    "pycharm": {
     "name": "#%%\n"
    }
   },
   "outputs": [],
   "source": [
    "# Make a list\n"
   ]
  },
  {
   "cell_type": "code",
   "execution_count": null,
   "metadata": {
    "pycharm": {
     "name": "#%%\n"
    }
   },
   "outputs": [],
   "source": [
    "# Make a dictionary\n"
   ]
  },
  {
   "cell_type": "markdown",
   "metadata": {},
   "source": [
    "# Indexing\n",
    " Indexing is used to retrieve values from data structures\n",
    "\n",
    "\n",
    "* IMPORTANT NOTE: Python indexing starts at 0.\n",
    "    * The first element is at position 0, the second element is at position 1, etc.\n",
    "    * In our example list, [\"Disrupt\", \"Fintech\", \"Initiative\"], Disrupt is at index 0, Fintech at index 1, and Initiative at index 2."
   ]
  },
  {
   "cell_type": "code",
   "execution_count": null,
   "metadata": {
    "scrolled": true
   },
   "outputs": [],
   "source": [
    "ex_list[0]"
   ]
  },
  {
   "cell_type": "code",
   "execution_count": null,
   "metadata": {},
   "outputs": [],
   "source": [
    "ex_dict[\"AAPL\"]"
   ]
  },
  {
   "cell_type": "code",
   "execution_count": null,
   "metadata": {},
   "outputs": [],
   "source": [
    "# what happens when you try to access an index that doesn't exist?\n",
    "ex_list[3]"
   ]
  },
  {
   "cell_type": "code",
   "execution_count": null,
   "metadata": {},
   "outputs": [],
   "source": [
    "# what happens when you try to access an index that doesn't exist?\n",
    "ex_dict[\"INVALID\"]"
   ]
  },
  {
   "cell_type": "code",
   "execution_count": null,
   "metadata": {},
   "outputs": [],
   "source": [
    "# Return the price of Apple (AAPL) from the dictionary using indexing\n"
   ]
  },
  {
   "cell_type": "markdown",
   "metadata": {},
   "source": [
    "# Variables\n",
    "\n",
    "* Variables are containers for storing data values.\n",
    "* They can be useful when the same data value is used in multiple places"
   ]
  },
  {
   "cell_type": "code",
   "execution_count": null,
   "metadata": {},
   "outputs": [],
   "source": [
    "x = 5\n",
    "name = \"Disrupt\"\n",
    "one_to_five = [1, 2, 3, 4, 5]"
   ]
  },
  {
   "cell_type": "code",
   "execution_count": null,
   "metadata": {},
   "outputs": [],
   "source": [
    "print(x)\n",
    "print(name)\n",
    "print(one_to_five)"
   ]
  },
  {
   "cell_type": "code",
   "execution_count": null,
   "metadata": {},
   "outputs": [],
   "source": [
    "# Create your own variable\n"
   ]
  },
  {
   "cell_type": "markdown",
   "metadata": {},
   "source": [
    "# Arithmetic in Python\n",
    "\n",
    "Math in Python:\n",
    "* Addition -> `+`\n",
    "* Subtraction -> `-`\n",
    "* Multiplication -> `*`\n",
    "* Division -> `/`\n",
    "* Integer Divison -> `//`\n",
    "* Power -> `**`\n",
    "* Mod -> `%`"
   ]
  },
  {
   "cell_type": "code",
   "execution_count": null,
   "metadata": {
    "pycharm": {
     "name": "#%%\n"
    }
   },
   "outputs": [],
   "source": [
    "a = 5\n",
    "b = 2\n",
    "a + b"
   ]
  },
  {
   "cell_type": "code",
   "execution_count": null,
   "metadata": {
    "pycharm": {
     "name": "#%%\n"
    }
   },
   "outputs": [],
   "source": [
    "a * b"
   ]
  },
  {
   "cell_type": "code",
   "execution_count": null,
   "metadata": {
    "pycharm": {
     "name": "#%%\n"
    }
   },
   "outputs": [],
   "source": [
    "a / b"
   ]
  },
  {
   "cell_type": "code",
   "execution_count": null,
   "metadata": {},
   "outputs": [],
   "source": [
    "# two slashes indicate integer division. this means it will round down to the nearest integer\n",
    "a // b"
   ]
  },
  {
   "cell_type": "code",
   "execution_count": null,
   "metadata": {},
   "outputs": [],
   "source": [
    "a**2"
   ]
  },
  {
   "cell_type": "code",
   "execution_count": null,
   "metadata": {},
   "outputs": [],
   "source": [
    "# the modulo operator returns the remainder of the division\n",
    "a % b"
   ]
  },
  {
   "cell_type": "code",
   "execution_count": null,
   "metadata": {},
   "outputs": [],
   "source": [
    "# Using your age, compute the following: triple your age, square it, then integer divide by 5 and add 1 to the results\n"
   ]
  },
  {
   "cell_type": "markdown",
   "metadata": {},
   "source": [
    "# Challenge:\n",
    "1. Assuming` a` and `b` are legs of a right triangle, find `c` using the Pythagorean Theorem\n",
    "2. What data type is returned?"
   ]
  },
  {
   "cell_type": "code",
   "execution_count": null,
   "metadata": {},
   "outputs": [],
   "source": []
  },
  {
   "cell_type": "markdown",
   "metadata": {
    "pycharm": {
     "name": "#%% md\n"
    }
   },
   "source": [
    "# Printing\n",
    "The `print()` function prints the specified message to the screen, or other standard output device."
   ]
  },
  {
   "cell_type": "code",
   "execution_count": null,
   "metadata": {
    "pycharm": {
     "name": "#%%\n"
    },
    "scrolled": true
   },
   "outputs": [],
   "source": [
    "print(1)\n",
    "print(\"Hello World\")"
   ]
  },
  {
   "cell_type": "code",
   "execution_count": null,
   "metadata": {},
   "outputs": [],
   "source": [
    "# print your age\n"
   ]
  },
  {
   "cell_type": "code",
   "execution_count": null,
   "metadata": {},
   "outputs": [],
   "source": [
    "# Python has a useful feature called an f-string. It allows you to insert variables into a string\n",
    "name = \"Jane Doe\"\n",
    "major = \"Computer Science\"\n",
    "grad_year = 2025\n",
    "print(f\"Hello my name is {name}! I am majoring in {major} and I will graduate from Northeastern in {grad_year}.\")"
   ]
  },
  {
   "cell_type": "code",
   "execution_count": null,
   "metadata": {},
   "outputs": [],
   "source": [
    "# try printing your name, and your age with an f-string.\n"
   ]
  },
  {
   "cell_type": "markdown",
   "metadata": {},
   "source": [
    "# Conditions\n",
    "* Equals: a `==` b\n",
    "* Not Equals: a `!=` b\n",
    "* Less than: a `<` b\n",
    "* Less than or equal to: a `<=` b\n",
    "* Greater than: a `>` b\n",
    "* Greater than or equal to: a `>=` b"
   ]
  },
  {
   "cell_type": "code",
   "execution_count": null,
   "metadata": {},
   "outputs": [],
   "source": [
    "a = 1\n",
    "b = 2"
   ]
  },
  {
   "cell_type": "code",
   "execution_count": null,
   "metadata": {},
   "outputs": [],
   "source": [
    "a == b"
   ]
  },
  {
   "cell_type": "code",
   "execution_count": null,
   "metadata": {},
   "outputs": [],
   "source": [
    "a != b"
   ]
  },
  {
   "cell_type": "code",
   "execution_count": null,
   "metadata": {},
   "outputs": [],
   "source": [
    "a < b"
   ]
  },
  {
   "cell_type": "code",
   "execution_count": null,
   "metadata": {},
   "outputs": [],
   "source": [
    "a <= b"
   ]
  },
  {
   "cell_type": "code",
   "execution_count": null,
   "metadata": {},
   "outputs": [],
   "source": [
    "a > b"
   ]
  },
  {
   "cell_type": "code",
   "execution_count": null,
   "metadata": {},
   "outputs": [],
   "source": [
    "a >= b"
   ]
  },
  {
   "cell_type": "code",
   "execution_count": null,
   "metadata": {},
   "outputs": [],
   "source": [
    "# Test a condition on your own\n"
   ]
  },
  {
   "cell_type": "markdown",
   "metadata": {},
   "source": [
    "# Applying conditions to `if` statements\n",
    "If statements are used to execute code when a condition is met."
   ]
  },
  {
   "cell_type": "code",
   "execution_count": null,
   "metadata": {},
   "outputs": [],
   "source": [
    "if a == b:\n",
    "    print(\"a is equal to b\")\n",
    "elif a > b:\n",
    "    print(\"a is greater than b\")\n",
    "else:\n",
    "    print(\"a is less than b\")"
   ]
  },
  {
   "cell_type": "code",
   "execution_count": null,
   "metadata": {},
   "outputs": [],
   "source": [
    "# Try creating your own if statement using the following variables\n",
    "num_dogs = 10\n",
    "num_cats = 20\n"
   ]
  },
  {
   "cell_type": "markdown",
   "metadata": {},
   "source": [
    "# Defining Functions\n",
    "\n",
    "A function is a block of code which only runs when it is called. Functions are really helpful when you want to reuse code in multiple places.\n",
    "\n",
    "You can pass data, known as parameters, into a function. A function can return data as a result, but it can also return nothing.\n",
    "\n",
    "Function definitions can have no parameters:\n",
    "`def function_name():`\n",
    "\n",
    "But they can also have parameters:\n",
    "`def function_name(param1, param2):`"
   ]
  },
  {
   "cell_type": "code",
   "execution_count": null,
   "metadata": {
    "tags": []
   },
   "outputs": [],
   "source": [
    "# Example of a function without parameters\n",
    "def say_hello():\n",
    "    print(\"hello\")\n",
    "    \n",
    "say_hello()"
   ]
  },
  {
   "cell_type": "code",
   "execution_count": null,
   "metadata": {},
   "outputs": [],
   "source": [
    "# Example of a function with parameters\n",
    "def double(a):\n",
    "    return a * 2\n",
    "\n",
    "double(10)"
   ]
  },
  {
   "cell_type": "code",
   "execution_count": null,
   "metadata": {
    "pycharm": {
     "name": "#%%\n"
    },
    "scrolled": true
   },
   "outputs": [],
   "source": [
    "# Example of a function with multiple parameters\n",
    "def plus(a, b):\n",
    "    # Replace the pass with code that returns the sum of a and b\n",
    "    pass"
   ]
  },
  {
   "cell_type": "code",
   "execution_count": null,
   "metadata": {
    "pycharm": {
     "name": "#%%\n"
    }
   },
   "outputs": [],
   "source": [
    "plus(3, 4)"
   ]
  },
  {
   "cell_type": "code",
   "execution_count": null,
   "metadata": {},
   "outputs": [],
   "source": [
    "# Create and call a function that takes the average of 2 inputs: a and b\n"
   ]
  },
  {
   "cell_type": "code",
   "execution_count": null,
   "metadata": {},
   "outputs": [],
   "source": [
    "# Create and call a function that takes in a name as a string and says hello to that person\n"
   ]
  },
  {
   "cell_type": "markdown",
   "metadata": {},
   "source": [
    "# Looping\n",
    "\n",
    "Sometimes we run into repetitive tasks. For example, we may want to print out the numbers 1 through 10. Going from 1 to 10 isn't too bad, but what if we wanted to print out the numbers 1 through 100? Or 1 through 1000? Or 1 through 1000000? This is where loops come in handy. "
   ]
  },
  {
   "cell_type": "code",
   "execution_count": null,
   "metadata": {},
   "outputs": [],
   "source": [
    "print(1)\n",
    "print(2)\n",
    "print(3)\n",
    "print(4)\n",
    "print(5)\n",
    "print(6)\n",
    "print(7)\n",
    "print(8)\n",
    "print(9)\n",
    "print(10)"
   ]
  },
  {
   "cell_type": "code",
   "execution_count": null,
   "metadata": {},
   "outputs": [],
   "source": [
    "# the same task can be accomplished much more concisely with a for loop\n",
    "for x in range(1, 11):\n",
    "    print(x)"
   ]
  },
  {
   "cell_type": "markdown",
   "metadata": {},
   "source": [
    "Let's consider printing the days of the week."
   ]
  },
  {
   "cell_type": "code",
   "execution_count": null,
   "metadata": {},
   "outputs": [],
   "source": [
    "days_of_the_week = [\"Monday\", \"Tuesday\", \"Wednesday\", \"Thursday\", \"Friday\", \"Saturday\", \"Sunday\"]\n",
    "\n",
    "\n",
    "# this approach uses the length of the list and indexing to access each element\n",
    "for i in range(len(days_of_the_week)):\n",
    "    print(days_of_the_week[i])"
   ]
  },
  {
   "cell_type": "code",
   "execution_count": null,
   "metadata": {
    "scrolled": false
   },
   "outputs": [],
   "source": [
    "days_of_the_week = [\"Monday\", \"Tuesday\", \"Wednesday\", \"Thursday\", \"Friday\", \"Saturday\", \"Sunday\"]\n",
    "\n",
    "# this approach uses the for loop to iterate over the list directly\n",
    "for day in days_of_the_week:\n",
    "    print(day)"
   ]
  },
  {
   "cell_type": "markdown",
   "metadata": {},
   "source": [
    "A while loop repeats a statement or group of statements while a given condition is TRUE. It tests the condition before executing the loop body."
   ]
  },
  {
   "cell_type": "code",
   "execution_count": null,
   "metadata": {},
   "outputs": [],
   "source": [
    "i = 0\n",
    "days_of_the_week = [\"Monday\", \"Tuesday\", \"Wednesday\", \"Thursday\", \"Friday\", \"Saturday\", \"Sunday\"]\n",
    "while i < len(days_of_the_week):\n",
    "    print(days_of_the_week[i])\n",
    "    i = i + 1"
   ]
  },
  {
   "cell_type": "markdown",
   "metadata": {},
   "source": [
    "What if we had a list of rankings for a competition? We could use a for loop to print out each ranking."
   ]
  },
  {
   "cell_type": "code",
   "execution_count": null,
   "metadata": {},
   "outputs": [],
   "source": [
    "rankings = [\"John\", \"Jane\", \"Aayan\", \"Sofia\", \"Mark\"]\n",
    "\n",
    "for index in range(len(rankings)):\n",
    "    # Why do we add 1 to the index?\n",
    "    print(f\"{index+1}. {rankings[index]}\")"
   ]
  },
  {
   "cell_type": "code",
   "execution_count": null,
   "metadata": {},
   "outputs": [],
   "source": [
    "# the same thing can be accomplished with another built-in function called enumerate\n",
    "\n",
    "rankings = [\"John\", \"Jane\", \"Aayan\", \"Sofia\", \"Mark\"]\n",
    "\n",
    "for index, name in enumerate(rankings):\n",
    "    print(f\"{index+1}. {name}\")"
   ]
  },
  {
   "cell_type": "code",
   "execution_count": null,
   "metadata": {},
   "outputs": [],
   "source": [
    "# print all the numbers from 1 to 20 using a for loop\n"
   ]
  },
  {
   "cell_type": "code",
   "execution_count": null,
   "metadata": {},
   "outputs": [],
   "source": [
    "# do the same using a while loop"
   ]
  },
  {
   "cell_type": "code",
   "execution_count": null,
   "metadata": {},
   "outputs": [],
   "source": [
    "# now try skipping all even numbers between 1 and 20\n",
    "# Hint: You may have to use the mod (%) operator and if statements\n"
   ]
  },
  {
   "cell_type": "markdown",
   "metadata": {},
   "source": [
    "Looping can also be used to iterate through a dictionary. Let's consider our stock ticker to stock price dictionary from earlier."
   ]
  },
  {
   "cell_type": "code",
   "execution_count": null,
   "metadata": {},
   "outputs": [],
   "source": [
    "stock_ticker_to_price = {\n",
    "    \"AAPL\": 125.07,\n",
    "    \"MSFT\": 239.58,\n",
    "    \"META\": 124.74\n",
    "}\n",
    "\n",
    "for stock in stock_ticker_to_price:\n",
    "    print(f\"{stock} is trading at ${stock_ticker_to_price[stock]}\")"
   ]
  },
  {
   "cell_type": "code",
   "execution_count": null,
   "metadata": {},
   "outputs": [],
   "source": [
    "stock_ticker_to_price = {\n",
    "    \"AAPL\": 125.07,\n",
    "    \"MSFT\": 239.58,\n",
    "    \"META\": 124.74\n",
    "}\n",
    "\n",
    "# this prints out the keys of the dictionary\n",
    "for stock_ticker in stock_ticker_to_price.keys():\n",
    "    print(stock_ticker)"
   ]
  },
  {
   "cell_type": "code",
   "execution_count": null,
   "metadata": {},
   "outputs": [],
   "source": [
    "stock_ticker_to_price = {\n",
    "    \"AAPL\": 125.07,\n",
    "    \"MSFT\": 239.58,\n",
    "    \"META\": 124.74\n",
    "}\n",
    "\n",
    "# this prints out the values of the dictionary\n",
    "for stock_price in stock_ticker_to_price.values():\n",
    "    print(stock_price)"
   ]
  },
  {
   "cell_type": "code",
   "execution_count": null,
   "metadata": {},
   "outputs": [],
   "source": [
    "# write a loop that goes through this dictionary and prints the name of the person with the youngest age\n",
    "# Hint: you may want to keep track of the minimum age so far and the name of the person with the minimum age\n",
    "name_to_age = {\"Jacob\": 20,\n",
    "               \"Sadie\": 2,\n",
    "               \"Taylor\": 45,\n",
    "               \"Teddy\": 96,\n",
    "               \"Muneer\": 1,\n",
    "               \"Caroline\": 37}"
   ]
  },
  {
   "cell_type": "markdown",
   "metadata": {},
   "source": [
    "# Challenge 1:\n",
    "\n",
    "Write a function that takes in a starting and ending number. Print all the numbers from the starting number to the ending number."
   ]
  },
  {
   "cell_type": "code",
   "execution_count": null,
   "metadata": {},
   "outputs": [],
   "source": []
  },
  {
   "cell_type": "markdown",
   "metadata": {},
   "source": [
    "# Challenge 2:\n",
    "\n",
    "Write a function that takes in a list of integers as a parameter and returns the max value in that list."
   ]
  },
  {
   "cell_type": "code",
   "execution_count": null,
   "metadata": {},
   "outputs": [],
   "source": []
  },
  {
   "cell_type": "markdown",
   "metadata": {},
   "source": [
    "# Challenge 3:\n",
    "\n",
    "Write a function that takes in a dictionary with stock tickers as keys and stock prices as values. Compute the average stock price of all stocks within the dictionary and return it."
   ]
  },
  {
   "cell_type": "code",
   "execution_count": null,
   "metadata": {},
   "outputs": [],
   "source": []
  }
 ],
 "metadata": {
  "kernelspec": {
   "display_name": "Python 3 (ipykernel)",
   "language": "python",
   "name": "python3"
  },
  "language_info": {
   "codemirror_mode": {
    "name": "ipython",
    "version": 3
   },
   "file_extension": ".py",
   "mimetype": "text/x-python",
   "name": "python",
   "nbconvert_exporter": "python",
   "pygments_lexer": "ipython3",
   "version": "3.11.1"
  },
  "vscode": {
   "interpreter": {
    "hash": "c5952acca7e39c2f31e93ac433bdaaf7725db15687c0e3695b4109428be0f693"
   }
  }
 },
 "nbformat": 4,
 "nbformat_minor": 4
}
